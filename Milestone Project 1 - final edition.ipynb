{
 "cells": [
  {
   "cell_type": "markdown",
   "metadata": {},
   "source": [
    "# Milestone Project 1"
   ]
  },
  {
   "cell_type": "markdown",
   "metadata": {},
   "source": [
    "# Tic tac toe Game"
   ]
  },
  {
   "cell_type": "code",
   "execution_count": 1,
   "metadata": {
    "collapsed": true
   },
   "outputs": [],
   "source": [
    "#We need to print a board.\n",
    "from IPython.display import clear_output"
   ]
  },
  {
   "cell_type": "code",
   "execution_count": 2,
   "metadata": {
    "collapsed": true
   },
   "outputs": [],
   "source": [
    "board = [1,2,3,4,5,6,7,8,9]"
   ]
  },
  {
   "cell_type": "code",
   "execution_count": 3,
   "metadata": {
    "collapsed": true
   },
   "outputs": [],
   "source": [
    "def resetboard():\n",
    "    for i in range(0,9):\n",
    "        board[i] = i+1"
   ]
  },
  {
   "cell_type": "code",
   "execution_count": 4,
   "metadata": {
    "collapsed": true
   },
   "outputs": [],
   "source": [
    "def print_board():\n",
    "    #clear_output()\n",
    "    #main()\n",
    "    import numpy as np\n",
    "    myboard = np.asarray(board)\n",
    "    myboard.shape = (3,3)\n",
    "    print myboard"
   ]
  },
  {
   "cell_type": "code",
   "execution_count": 5,
   "metadata": {
    "collapsed": true
   },
   "outputs": [],
   "source": [
    "# Take in player input."
   ]
  },
  {
   "cell_type": "code",
   "execution_count": 6,
   "metadata": {
    "collapsed": true
   },
   "outputs": [],
   "source": [
    "def input_marker():\n",
    "    global board\n",
    "    n =  input('Please input a number(1-9): ')\n",
    "    if n >=1 and n <= 9:\n",
    "        c = input('make an marker: ')\n",
    "        board[n-1] = c\n",
    "        #print board\n",
    "        print_board()\n",
    "        \n",
    "    '''\n",
    "    for y in board:\n",
    "        if n == y:\n",
    "            c = input('make an marker: ')\n",
    "            board[n-1] = c\n",
    "            #print board\n",
    "            print_board()\n",
    "            #print\n",
    "    '''\n"
   ]
  },
  {
   "cell_type": "code",
   "execution_count": 7,
   "metadata": {
    "collapsed": true
   },
   "outputs": [],
   "source": [
    "def main():\n",
    "    #clear_output()\n",
    "    print ' *** Welcome to play Tic Tac Toe Game ***'\n",
    "    print\n",
    "    print '                     Written by HooeyPooey'\n",
    "    print\n",
    "    print \"Player1: 'o'         Player2: 'x'\"\n",
    "    print\n",
    "    #show_board  =  print_board()"
   ]
  },
  {
   "cell_type": "code",
   "execution_count": 8,
   "metadata": {
    "collapsed": true
   },
   "outputs": [],
   "source": [
    "#Check if the game is won,tied, lost, or ongoing."
   ]
  },
  {
   "cell_type": "code",
   "execution_count": 9,
   "metadata": {
    "collapsed": true
   },
   "outputs": [],
   "source": [
    "def check():\n",
    "    b = board\n",
    "    if (b[0] == b[1] == b[2] == 'o' or b[3] == b[4] == b[5] == 'o' or b[6] == b[7] == b[8] == 'o' or\n",
    "        b[0] == b[3] == b[6]== 'o' or b[1] == b[4] == b[7] == 'o' or b[2] == b[5] == b[8] == 'o' or\n",
    "        b[0] == b[4] == b[8] == 'o' or b[2] == b[4] == b[6] == 'o'):\n",
    "        print 'player 1 win!'\n",
    "        print \"Please input 'c' for new game, input any key for exit\"\n",
    "        a = input('New game: ')\n",
    "        if a == 'c':\n",
    "            clear_output()\n",
    "            resetboard()\n",
    "            main()\n",
    "\n",
    "    elif(b[0] == b[1] == b[2] == 'x' or b[3] == b[4] == b[5] == 'x' or b[6] == b[7] == b[8] == 'x' or\n",
    "         b[0] == b[3] == b[6] == 'x' or b[1] == b[4] == b[7] == 'x' or b[2] == b[5] == b[8] == 'x' or\n",
    "         b[0] == b[4] == b[8] == 'x' or b[2] == b[4] == b[6] == 'x'):\n",
    "        print 'player 2 win!'\n",
    "        print \"Please input 'c' for new game, input any key for exit\"\n",
    "        a = input('New game: ')\n",
    "        if a == 'c':\n",
    "            clear_output()\n",
    "            resetboard()\n",
    "            main()\n",
    "\n",
    "    else:\n",
    "        #set() is unique ~ \n",
    "        if set(board) == {'x','o'}:\n",
    "            print 'This is tie!'\n",
    "            print \"Please input 'c' for new game, input any key for exit\"\n",
    "            a = input('New game: ')\n",
    "            if a == 'c':\n",
    "                clear_output()\n",
    "                resetboard()\n",
    "                main()\n",
    "            else:\n",
    "                pass                "
   ]
  },
  {
   "cell_type": "code",
   "execution_count": null,
   "metadata": {
    "collapsed": true
   },
   "outputs": [],
   "source": [
    "# write a main function to start the game"
   ]
  },
  {
   "cell_type": "code",
   "execution_count": null,
   "metadata": {
    "scrolled": false
   },
   "outputs": [
    {
     "name": "stdout",
     "output_type": "stream",
     "text": [
      " *** Welcome to play Tic Tac Toe Game ***\n",
      "\n",
      "                     Written by HooeyPooey\n",
      "\n",
      "Player1: 'o'         Player2: 'x'\n",
      "\n",
      "[[1 2 3]\n",
      " [4 5 6]\n",
      " [7 8 9]]\n",
      "\n",
      "next player: \n",
      "Please input a number(1-9): 1\n",
      "make an marker: 'x'\n",
      "[['x' '2' '3']\n",
      " ['4' '5' '6']\n",
      " ['7' '8' '9']]\n",
      "\n",
      "next player: \n",
      "Please input a number(1-9): 2\n",
      "make an marker: 'o'\n",
      "[['x' 'o' '3']\n",
      " ['4' '5' '6']\n",
      " ['7' '8' '9']]\n",
      "\n",
      "next player: \n"
     ]
    }
   ],
   "source": [
    "\n",
    "if __name__== \"__main__\":\n",
    "    \n",
    "    #main()\n",
    "    print_board()\n",
    "    while set(board) != {'x','o'}:\n",
    "        print\n",
    "        print 'next player: '\n",
    "        mark_board  =  input_marker()\n",
    "        mark_check  =  check()\n",
    "        "
   ]
  },
  {
   "cell_type": "code",
   "execution_count": null,
   "metadata": {
    "collapsed": true
   },
   "outputs": [],
   "source": []
  },
  {
   "cell_type": "code",
   "execution_count": null,
   "metadata": {
    "collapsed": true
   },
   "outputs": [],
   "source": []
  }
 ],
 "metadata": {
  "kernelspec": {
   "display_name": "Python 2",
   "language": "python",
   "name": "python2"
  },
  "language_info": {
   "codemirror_mode": {
    "name": "ipython",
    "version": 2
   },
   "file_extension": ".py",
   "mimetype": "text/x-python",
   "name": "python",
   "nbconvert_exporter": "python",
   "pygments_lexer": "ipython2",
   "version": "2.7.14"
  }
 },
 "nbformat": 4,
 "nbformat_minor": 2
}
